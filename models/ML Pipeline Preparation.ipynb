{
 "cells": [
  {
   "cell_type": "markdown",
   "metadata": {},
   "source": [
    "# ML Pipeline Preparation\n",
    "Follow the instructions below to help you create your ML pipeline.\n",
    "### 1. Import libraries and load data from database.\n",
    "- Import Python libraries\n",
    "- Load dataset from database with [`read_sql_table`](https://pandas.pydata.org/pandas-docs/stable/generated/pandas.read_sql_table.html)\n",
    "- Define feature and target variables X and Y"
   ]
  },
  {
   "cell_type": "code",
   "execution_count": 1,
   "metadata": {},
   "outputs": [
    {
     "name": "stdout",
     "output_type": "stream",
     "text": [
      "Requirement already satisfied: nltk in c:\\users\\user\\anaconda3\\lib\\site-packages (3.5)\n",
      "Requirement already satisfied: tqdm in c:\\users\\user\\anaconda3\\lib\\site-packages (from nltk) (4.50.2)\n",
      "Requirement already satisfied: click in c:\\users\\user\\anaconda3\\lib\\site-packages (from nltk) (7.1.2)\n",
      "Requirement already satisfied: regex in c:\\users\\user\\anaconda3\\lib\\site-packages (from nltk) (2020.10.15)\n",
      "Requirement already satisfied: joblib in c:\\users\\user\\anaconda3\\lib\\site-packages (from nltk) (0.17.0)\n",
      "Requirement already satisfied: plotly in c:\\users\\user\\anaconda3\\lib\\site-packages (5.1.0)\n",
      "Requirement already satisfied: six in c:\\users\\user\\anaconda3\\lib\\site-packages (from plotly) (1.15.0)\n",
      "Requirement already satisfied: tenacity>=6.2.0 in c:\\users\\user\\anaconda3\\lib\\site-packages (from plotly) (8.0.1)\n"
     ]
    }
   ],
   "source": [
    "!pip install nltk\n",
    "!pip install plotly"
   ]
  },
  {
   "cell_type": "code",
   "execution_count": 2,
   "metadata": {},
   "outputs": [
    {
     "name": "stderr",
     "output_type": "stream",
     "text": [
      "[nltk_data] Downloading package punkt to\n",
      "[nltk_data]     C:\\Users\\user\\AppData\\Roaming\\nltk_data...\n",
      "[nltk_data]   Package punkt is already up-to-date!\n",
      "[nltk_data] Downloading package wordnet to\n",
      "[nltk_data]     C:\\Users\\user\\AppData\\Roaming\\nltk_data...\n",
      "[nltk_data]   Package wordnet is already up-to-date!\n",
      "[nltk_data] Downloading package averaged_perceptron_tagger to\n",
      "[nltk_data]     C:\\Users\\user\\AppData\\Roaming\\nltk_data...\n",
      "[nltk_data]   Package averaged_perceptron_tagger is already up-to-\n",
      "[nltk_data]       date!\n",
      "[nltk_data] Downloading package stopwords to\n",
      "[nltk_data]     C:\\Users\\user\\AppData\\Roaming\\nltk_data...\n",
      "[nltk_data]   Package stopwords is already up-to-date!\n"
     ]
    },
    {
     "data": {
      "text/plain": [
       "True"
      ]
     },
     "execution_count": 2,
     "metadata": {},
     "output_type": "execute_result"
    }
   ],
   "source": [
    "import nltk\n",
    "nltk.download('punkt')\n",
    "nltk.download('wordnet')\n",
    "nltk.download('averaged_perceptron_tagger')\n",
    "nltk.download('stopwords')\n"
   ]
  },
  {
   "cell_type": "code",
   "execution_count": 3,
   "metadata": {},
   "outputs": [],
   "source": [
    "# import libraries\n",
    "import numpy as np\n",
    "import pandas as pd\n",
    "pd.set_option('display.max_columns', 500)\n",
    "\n",
    "import sys\n",
    "import os\n",
    "import re\n",
    "from sqlalchemy import create_engine\n",
    "import pickle\n",
    "\n",
    "from scipy.stats import gmean\n",
    "# import relevant functions/modules from the sklearn\n",
    "from sklearn.pipeline import Pipeline, FeatureUnion\n",
    "from sklearn.model_selection import train_test_split\n",
    "from sklearn.metrics import classification_report\n",
    "from sklearn.metrics import confusion_matrix\n",
    "from sklearn.metrics import fbeta_score, make_scorer\n",
    "from sklearn.ensemble import GradientBoostingClassifier, RandomForestClassifier, AdaBoostClassifier\n",
    "from sklearn.model_selection import GridSearchCV\n",
    "from sklearn.feature_extraction.text import TfidfTransformer, CountVectorizer\n",
    "from sklearn.multioutput import MultiOutputClassifier\n",
    "from sklearn.base import BaseEstimator,TransformerMixin"
   ]
  },
  {
   "cell_type": "code",
   "execution_count": 4,
   "metadata": {},
   "outputs": [
    {
     "ename": "NameError",
     "evalue": "name 'table_name' is not defined",
     "output_type": "error",
     "traceback": [
      "\u001b[1;31m---------------------------------------------------------------------------\u001b[0m",
      "\u001b[1;31mNameError\u001b[0m                                 Traceback (most recent call last)",
      "\u001b[1;32m<ipython-input-4-c04da27b8b51>\u001b[0m in \u001b[0;36m<module>\u001b[1;34m\u001b[0m\n\u001b[0;32m      1\u001b[0m \u001b[1;31m# load data from database\u001b[0m\u001b[1;33m\u001b[0m\u001b[1;33m\u001b[0m\u001b[1;33m\u001b[0m\u001b[0m\n\u001b[0;32m      2\u001b[0m \u001b[0mengine\u001b[0m \u001b[1;33m=\u001b[0m \u001b[0mcreate_engine\u001b[0m\u001b[1;33m(\u001b[0m\u001b[1;34m'sqlite:///disaster_response_db.db'\u001b[0m\u001b[1;33m)\u001b[0m\u001b[1;33m\u001b[0m\u001b[1;33m\u001b[0m\u001b[0m\n\u001b[1;32m----> 3\u001b[1;33m \u001b[0mdf\u001b[0m \u001b[1;33m=\u001b[0m \u001b[0mpd\u001b[0m\u001b[1;33m.\u001b[0m\u001b[0mread_sql_table\u001b[0m\u001b[1;33m(\u001b[0m\u001b[0mtable_name\u001b[0m\u001b[1;33m,\u001b[0m \u001b[0mengine\u001b[0m\u001b[1;33m)\u001b[0m\u001b[1;33m\u001b[0m\u001b[1;33m\u001b[0m\u001b[0m\n\u001b[0m\u001b[0;32m      4\u001b[0m \u001b[0mX\u001b[0m \u001b[1;33m=\u001b[0m \u001b[0mdf\u001b[0m\u001b[1;33m.\u001b[0m\u001b[0mmessage\u001b[0m\u001b[1;33m\u001b[0m\u001b[1;33m\u001b[0m\u001b[0m\n\u001b[0;32m      5\u001b[0m \u001b[0my\u001b[0m \u001b[1;33m=\u001b[0m \u001b[0mdf\u001b[0m\u001b[1;33m[\u001b[0m\u001b[0mdf\u001b[0m\u001b[1;33m.\u001b[0m\u001b[0mcolumns\u001b[0m\u001b[1;33m[\u001b[0m\u001b[1;36m4\u001b[0m\u001b[1;33m:\u001b[0m\u001b[1;33m]\u001b[0m\u001b[1;33m]\u001b[0m\u001b[1;33m\u001b[0m\u001b[1;33m\u001b[0m\u001b[0m\n",
      "\u001b[1;31mNameError\u001b[0m: name 'table_name' is not defined"
     ]
    }
   ],
   "source": [
    "# load data from database\n",
    "engine = create_engine('sqlite:///disaster_response_db.db')\n",
    "df = pd.read_sql_table(table_name, engine)\n",
    "X = df.message\n",
    "y = df[df.columns[4:]]\n",
    "category_names = y.columns"
   ]
  },
  {
   "cell_type": "code",
   "execution_count": null,
   "metadata": {},
   "outputs": [],
   "source": [
    "df.describe()"
   ]
  },
  {
   "cell_type": "code",
   "execution_count": null,
   "metadata": {},
   "outputs": [],
   "source": [
    "#Column names in dataframe\n",
    "df.columns"
   ]
  },
  {
   "cell_type": "code",
   "execution_count": null,
   "metadata": {},
   "outputs": [],
   "source": [
    "# child_alone attribute seems to have all zeros\n",
    "df['child_alone'].values"
   ]
  },
  {
   "cell_type": "code",
   "execution_count": null,
   "metadata": {},
   "outputs": [],
   "source": [
    "#Lets remove the chile_alone attribute, as it got all zeros\n",
    "df = df.drop(['child_alone'], axis=1)"
   ]
  },
  {
   "cell_type": "code",
   "execution_count": null,
   "metadata": {},
   "outputs": [],
   "source": [
    "# Values under related attribute\n",
    "df.groupby('related').count()"
   ]
  },
  {
   "cell_type": "code",
   "execution_count": null,
   "metadata": {},
   "outputs": [],
   "source": [
    "# Values under request attribute\n",
    "df.groupby('request').count()"
   ]
  },
  {
   "cell_type": "code",
   "execution_count": null,
   "metadata": {},
   "outputs": [],
   "source": [
    "# In related table, rwo number with number 2 can create error, as it is negligible, so combining it with row number 1\n",
    "df['related']=df['related'].map(lambda x: 1 if x == 2 else x)"
   ]
  },
  {
   "cell_type": "code",
   "execution_count": null,
   "metadata": {},
   "outputs": [],
   "source": [
    "# related attribute after combining row number 2 and 1\n",
    "df.groupby('related').count()"
   ]
  },
  {
   "cell_type": "code",
   "execution_count": null,
   "metadata": {},
   "outputs": [],
   "source": [
    "# Defining the X and y variables again for the data modelling\n",
    "X = df['message']\n",
    "y = df.iloc[:,4:]"
   ]
  },
  {
   "cell_type": "markdown",
   "metadata": {},
   "source": [
    "### 2. Write a tokenization function to process your text data"
   ]
  },
  {
   "cell_type": "code",
   "execution_count": null,
   "metadata": {},
   "outputs": [],
   "source": [
    "def tokenize(text,url_place_holder_string=\"urlplaceholder\"):\n",
    "    \"\"\"\n",
    "    Tokenize the text function\n",
    "    \n",
    "    Arguments:\n",
    "        text -> Text message which needs to be tokenized\n",
    "    Output:\n",
    "        clean_tokens -> List of tokens extracted from the provided text\n",
    "    \"\"\"\n",
    "    \n",
    "    # Replace all urls with a urlplaceholder string\n",
    "    url_regex = 'http[s]?://(?:[a-zA-Z]|[0-9]|[$-_@.&+]|[!*\\(\\),]|(?:%[0-9a-fA-F][0-9a-fA-F]))+'\n",
    "    \n",
    "    # Extract all the urls from the provided text \n",
    "    detected_urls = re.findall(url_regex, text)\n",
    "    \n",
    "    # Replace url with a url placeholder string\n",
    "    for detected_url in detected_urls:\n",
    "        text = text.replace(detected_url, url_place_holder_string)\n",
    "\n",
    "    # Extract the word tokens from the provided text\n",
    "    tokens = nltk.word_tokenize(text)\n",
    "    \n",
    "    #Lemmanitizer to remove inflectional and derivationally related forms of a word\n",
    "    lemmatizer = nltk.WordNetLemmatizer()\n",
    "\n",
    "    # List of clean tokens\n",
    "    clean_tokens = [lemmatizer.lemmatize(w).lower().strip() for w in tokens]\n",
    "    return clean_tokens"
   ]
  },
  {
   "cell_type": "code",
   "execution_count": null,
   "metadata": {},
   "outputs": [],
   "source": [
    "# Build a custom transformer which will extract the starting verb of a sentence\n",
    "class StartingVerbExtractor(BaseEstimator, TransformerMixin):\n",
    "    \"\"\"\n",
    "    Starting Verb Extractor class\n",
    "    \n",
    "    This class extract the starting verb of a sentence,\n",
    "    creating a new feature for the ML classifier\n",
    "    \"\"\"\n",
    "\n",
    "    def starting_verb(self, text):\n",
    "        sentence_list = nltk.sent_tokenize(text)\n",
    "        for sentence in sentence_list:\n",
    "            pos_tags = nltk.pos_tag(tokenize(sentence))\n",
    "            first_word, first_tag = pos_tags[0]\n",
    "            if first_tag in ['VB', 'VBP'] or first_word == 'RT':\n",
    "                return True\n",
    "        return False\n",
    "\n",
    "    # Given it is a tranformer we can return the self \n",
    "    def fit(self, X, y=None):\n",
    "        return self\n",
    "\n",
    "    def transform(self, X):\n",
    "        X_tagged = pd.Series(X).apply(self.starting_verb)\n",
    "        return pd.DataFrame(X_tagged)"
   ]
  },
  {
   "cell_type": "markdown",
   "metadata": {},
   "source": [
    "### 3. Build a machine learning pipeline\n",
    "This machine pipeline should take in the `message` column as input and output classification results on the other 36 categories in the dataset. You may find the [MultiOutputClassifier](http://scikit-learn.org/stable/modules/generated/sklearn.multioutput.MultiOutputClassifier.html) helpful for predicting multiple target variables."
   ]
  },
  {
   "cell_type": "code",
   "execution_count": null,
   "metadata": {},
   "outputs": [],
   "source": [
    "pipeline1 = Pipeline([\n",
    "        ('features', FeatureUnion([\n",
    "\n",
    "            ('text_pipeline', Pipeline([\n",
    "                ('count_vectorizer', CountVectorizer(tokenizer=tokenize)),\n",
    "                ('tfidf_transformer', TfidfTransformer())\n",
    "            ]))\n",
    "            \n",
    "        ])),\n",
    "\n",
    "        ('classifier', MultiOutputClassifier(AdaBoostClassifier()))\n",
    "    ])\n",
    "\n",
    "pipeline2 = Pipeline([\n",
    "        ('features', FeatureUnion([\n",
    "\n",
    "            ('text_pipeline', Pipeline([\n",
    "                ('count_vectorizer', CountVectorizer(tokenizer=tokenize)),\n",
    "                ('tfidf_transformer', TfidfTransformer())\n",
    "            ])),\n",
    "\n",
    "            ('starting_verb_transformer', StartingVerbExtractor())\n",
    "        ])),\n",
    "\n",
    "        ('classifier', MultiOutputClassifier(AdaBoostClassifier()))\n",
    "    ])"
   ]
  },
  {
   "cell_type": "markdown",
   "metadata": {},
   "source": [
    "### 4. Train pipeline\n",
    "- Split data into train and test sets\n",
    "- Train pipeline"
   ]
  },
  {
   "cell_type": "code",
   "execution_count": null,
   "metadata": {},
   "outputs": [],
   "source": [
    "X_train, X_test, y_train, y_test = train_test_split(X, y)\n",
    "pipeline_fitted = pipeline1.fit(X_train, y_train)"
   ]
  },
  {
   "cell_type": "markdown",
   "metadata": {},
   "source": [
    "### 5. Test your model\n",
    "Report the f1 score, precision and recall for each output category of the dataset. You can do this by iterating through the columns and calling sklearn's `classification_report` on each."
   ]
  },
  {
   "cell_type": "code",
   "execution_count": null,
   "metadata": {},
   "outputs": [],
   "source": [
    "y_prediction_train = pipeline_fitted.predict(X_train)\n",
    "y_prediction_test = pipeline_fitted.predict(X_test)\n",
    "\n",
    "# Print classification report on test data\n",
    "print(classification_report(y_test.values, y_prediction_test, target_names=y.columns.values))"
   ]
  },
  {
   "cell_type": "code",
   "execution_count": null,
   "metadata": {},
   "outputs": [],
   "source": [
    "# Print classification report on training data\n",
    "print('\\n',classification_report(y_train.values, y_prediction_train, target_names=y.columns.values))"
   ]
  },
  {
   "cell_type": "markdown",
   "metadata": {},
   "source": [
    "### 6. Improve your model\n",
    "Use grid search to find better parameters. "
   ]
  },
  {
   "cell_type": "code",
   "execution_count": null,
   "metadata": {},
   "outputs": [],
   "source": [
    "# pipeline1.get_params().keys()\n",
    "parameters_grid = {'classifier__estimator__learning_rate': [0.01, 0.02, 0.05],\n",
    "              'classifier__estimator__n_estimators': [10, 20, 40]}\n",
    "\n",
    "#parameters_grid = {'classifier__estimator__n_estimators': [10, 20, 40]}\n",
    "\n",
    "cv = GridSearchCV(pipeline1, param_grid=parameters_grid, scoring='f1_micro', n_jobs=-1)\n",
    "cv.fit(X_train, y_train)"
   ]
  },
  {
   "cell_type": "code",
   "execution_count": null,
   "metadata": {},
   "outputs": [],
   "source": [
    "# Get the prediction values from the grid search cross validator\n",
    "y_prediction_test = cv.predict(X_test)\n",
    "y_prediction_train = cv.predict(X_train)"
   ]
  },
  {
   "cell_type": "markdown",
   "metadata": {},
   "source": [
    "### 7. Test your model\n",
    "Show the accuracy, precision, and recall of the tuned model.  \n",
    "\n",
    "Since this project focuses on code quality, process, and  pipelines, there is no minimum performance metric needed to pass. However, make sure to fine tune your models for accuracy, precision and recall to make your project stand out - especially for your portfolio!"
   ]
  },
  {
   "cell_type": "code",
   "execution_count": null,
   "metadata": {},
   "outputs": [],
   "source": [
    "# Print classification report on test data\n",
    "print(classification_report(y_test.values, y_prediction_test, target_names=y.columns.values))"
   ]
  },
  {
   "cell_type": "code",
   "execution_count": null,
   "metadata": {},
   "outputs": [],
   "source": [
    "# Print classification report on training data\n",
    "print('\\n',classification_report(y_train.values, y_prediction_train, target_names=y.columns.values))"
   ]
  },
  {
   "cell_type": "markdown",
   "metadata": {},
   "source": [
    "### 8. Try improving your model further. Here are a few ideas:\n",
    "* try other machine learning algorithms\n",
    "* add other features besides the TF-IDF"
   ]
  },
  {
   "cell_type": "code",
   "execution_count": null,
   "metadata": {},
   "outputs": [],
   "source": [
    "#Use pipeline2 which includes StartingVerbEstimator\n",
    "X_train, X_test, y_train, y_test = train_test_split(X, y)\n",
    "pipeline_fitted = pipeline2.fit(X_train, y_train)\n",
    "\n",
    "y_prediction_train = pipeline_fitted.predict(X_train)\n",
    "y_prediction_test = pipeline_fitted.predict(X_test)\n",
    "\n",
    "# Print classification report on test data\n",
    "print(classification_report(y_test.values, y_prediction_test, target_names=y.columns.values))"
   ]
  },
  {
   "cell_type": "code",
   "execution_count": null,
   "metadata": {},
   "outputs": [],
   "source": [
    "# Print classification report on training data\n",
    "print('\\n',classification_report(y_train.values, y_prediction_train, target_names=y.columns.values))"
   ]
  },
  {
   "cell_type": "markdown",
   "metadata": {},
   "source": [
    "### 9. Export your model as a pickle file"
   ]
  },
  {
   "cell_type": "code",
   "execution_count": null,
   "metadata": {},
   "outputs": [],
   "source": [
    "m = pickle.dumps('classifier.pkl')\n"
   ]
  },
  {
   "cell_type": "markdown",
   "metadata": {},
   "source": [
    "### 10. Use this notebook to complete `train.py`\n",
    "Use the template file attached in the Resources folder to write a script that runs the steps above to create a database and export a model based on a new dataset specified by the user."
   ]
  },
  {
   "cell_type": "code",
   "execution_count": 8,
   "metadata": {},
   "outputs": [
    {
     "name": "stdout",
     "output_type": "stream",
     "text": [
      "Loading data from ../user/disaster_response_db.db ...\n",
      "Building the pipeline ...\n",
      "Training the pipeline ...\n",
      "Evaluating model...\n"
     ]
    },
    {
     "name": "stderr",
     "output_type": "stream",
     "text": [
      "[nltk_data] Downloading package punkt to\n",
      "[nltk_data]     C:\\Users\\user\\AppData\\Roaming\\nltk_data...\n",
      "[nltk_data]   Package punkt is already up-to-date!\n",
      "[nltk_data] Downloading package wordnet to\n",
      "[nltk_data]     C:\\Users\\user\\AppData\\Roaming\\nltk_data...\n",
      "[nltk_data]   Package wordnet is already up-to-date!\n",
      "[nltk_data] Downloading package averaged_perceptron_tagger to\n",
      "[nltk_data]     C:\\Users\\user\\AppData\\Roaming\\nltk_data...\n",
      "[nltk_data]   Package averaged_perceptron_tagger is already up-to-\n",
      "[nltk_data]       date!\n",
      "C:\\Users\\user\\anaconda3\\lib\\site-packages\\sklearn\\utils\\validation.py:67: FutureWarning: Pass beta=1 as keyword args. From version 0.25 passing these as positional arguments will result in an error\n",
      "  warnings.warn(\"Pass {} as keyword args. From version 0.25 \"\n"
     ]
    },
    {
     "name": "stdout",
     "output_type": "stream",
     "text": [
      "Average overall accuracy 94.79%\n",
      "F1 score (custom definition) 93.93%\n",
      "Model Performance with Category: related\n",
      "              precision    recall  f1-score   support\n",
      "\n",
      "           0       0.66      0.38      0.49      1237\n",
      "           1       0.83      0.94      0.88      4007\n",
      "\n",
      "    accuracy                           0.81      5244\n",
      "   macro avg       0.75      0.66      0.68      5244\n",
      "weighted avg       0.79      0.81      0.79      5244\n",
      "\n",
      "Model Performance with Category: request\n",
      "              precision    recall  f1-score   support\n",
      "\n",
      "           0       0.91      0.97      0.94      4346\n",
      "           1       0.80      0.56      0.66       898\n",
      "\n",
      "    accuracy                           0.90      5244\n",
      "   macro avg       0.86      0.76      0.80      5244\n",
      "weighted avg       0.89      0.90      0.89      5244\n",
      "\n",
      "Model Performance with Category: offer\n",
      "              precision    recall  f1-score   support\n",
      "\n",
      "           0       1.00      1.00      1.00      5218\n",
      "           1       0.00      0.00      0.00        26\n",
      "\n",
      "    accuracy                           0.99      5244\n",
      "   macro avg       0.50      0.50      0.50      5244\n",
      "weighted avg       0.99      0.99      0.99      5244\n",
      "\n",
      "Model Performance with Category: aid_related\n",
      "              precision    recall  f1-score   support\n",
      "\n",
      "           0       0.74      0.87      0.80      3037\n",
      "           1       0.77      0.59      0.66      2207\n",
      "\n",
      "    accuracy                           0.75      5244\n",
      "   macro avg       0.76      0.73      0.73      5244\n",
      "weighted avg       0.75      0.75      0.74      5244\n",
      "\n",
      "Model Performance with Category: medical_help\n",
      "              precision    recall  f1-score   support\n",
      "\n",
      "           0       0.94      0.99      0.96      4811\n",
      "           1       0.66      0.29      0.40       433\n",
      "\n",
      "    accuracy                           0.93      5244\n",
      "   macro avg       0.80      0.64      0.68      5244\n",
      "weighted avg       0.92      0.93      0.92      5244\n",
      "\n",
      "Model Performance with Category: medical_products\n",
      "              precision    recall  f1-score   support\n",
      "\n",
      "           0       0.96      0.99      0.98      4971\n",
      "           1       0.65      0.33      0.43       273\n",
      "\n",
      "    accuracy                           0.96      5244\n",
      "   macro avg       0.81      0.66      0.71      5244\n",
      "weighted avg       0.95      0.96      0.95      5244\n",
      "\n",
      "Model Performance with Category: search_and_rescue\n",
      "              precision    recall  f1-score   support\n",
      "\n",
      "           0       0.98      1.00      0.99      5110\n",
      "           1       0.53      0.16      0.24       134\n",
      "\n",
      "    accuracy                           0.97      5244\n",
      "   macro avg       0.75      0.58      0.61      5244\n",
      "weighted avg       0.97      0.97      0.97      5244\n",
      "\n",
      "Model Performance with Category: security\n",
      "              precision    recall  f1-score   support\n",
      "\n",
      "           0       0.98      1.00      0.99      5153\n",
      "           1       0.35      0.08      0.13        91\n",
      "\n",
      "    accuracy                           0.98      5244\n",
      "   macro avg       0.67      0.54      0.56      5244\n",
      "weighted avg       0.97      0.98      0.98      5244\n",
      "\n",
      "Model Performance with Category: military\n",
      "              precision    recall  f1-score   support\n",
      "\n",
      "           0       0.98      0.99      0.98      5064\n",
      "           1       0.63      0.35      0.45       180\n",
      "\n",
      "    accuracy                           0.97      5244\n",
      "   macro avg       0.80      0.67      0.72      5244\n",
      "weighted avg       0.97      0.97      0.97      5244\n",
      "\n",
      "Model Performance with Category: water\n",
      "              precision    recall  f1-score   support\n",
      "\n",
      "           0       0.98      0.99      0.98      4930\n",
      "           1       0.79      0.64      0.71       314\n",
      "\n",
      "    accuracy                           0.97      5244\n",
      "   macro avg       0.89      0.81      0.84      5244\n",
      "weighted avg       0.97      0.97      0.97      5244\n",
      "\n",
      "Model Performance with Category: food\n",
      "              precision    recall  f1-score   support\n",
      "\n",
      "           0       0.96      0.98      0.97      4676\n",
      "           1       0.81      0.69      0.75       568\n",
      "\n",
      "    accuracy                           0.95      5244\n",
      "   macro avg       0.89      0.84      0.86      5244\n",
      "weighted avg       0.95      0.95      0.95      5244\n",
      "\n",
      "Model Performance with Category: shelter\n",
      "              precision    recall  f1-score   support\n",
      "\n",
      "           0       0.96      0.99      0.97      4809\n",
      "           1       0.77      0.54      0.64       435\n",
      "\n",
      "    accuracy                           0.95      5244\n",
      "   macro avg       0.87      0.76      0.80      5244\n",
      "weighted avg       0.94      0.95      0.94      5244\n",
      "\n",
      "Model Performance with Category: clothing\n",
      "              precision    recall  f1-score   support\n",
      "\n",
      "           0       0.99      1.00      0.99      5174\n",
      "           1       0.60      0.39      0.47        70\n",
      "\n",
      "    accuracy                           0.99      5244\n",
      "   macro avg       0.80      0.69      0.73      5244\n",
      "weighted avg       0.99      0.99      0.99      5244\n",
      "\n",
      "Model Performance with Category: money\n",
      "              precision    recall  f1-score   support\n",
      "\n",
      "           0       0.98      0.99      0.99      5101\n",
      "           1       0.59      0.29      0.39       143\n",
      "\n",
      "    accuracy                           0.98      5244\n",
      "   macro avg       0.79      0.64      0.69      5244\n",
      "weighted avg       0.97      0.98      0.97      5244\n",
      "\n",
      "Model Performance with Category: missing_people\n",
      "              precision    recall  f1-score   support\n",
      "\n",
      "           0       0.99      1.00      1.00      5187\n",
      "           1       0.87      0.23      0.36        57\n",
      "\n",
      "    accuracy                           0.99      5244\n",
      "   macro avg       0.93      0.61      0.68      5244\n",
      "weighted avg       0.99      0.99      0.99      5244\n",
      "\n",
      "Model Performance with Category: refugees\n",
      "              precision    recall  f1-score   support\n",
      "\n",
      "           0       0.98      0.99      0.98      5075\n",
      "           1       0.60      0.25      0.36       169\n",
      "\n",
      "    accuracy                           0.97      5244\n",
      "   macro avg       0.79      0.62      0.67      5244\n",
      "weighted avg       0.96      0.97      0.96      5244\n",
      "\n",
      "Model Performance with Category: death\n",
      "              precision    recall  f1-score   support\n",
      "\n",
      "           0       0.97      0.99      0.98      4980\n",
      "           1       0.75      0.40      0.52       264\n",
      "\n",
      "    accuracy                           0.96      5244\n",
      "   macro avg       0.86      0.70      0.75      5244\n",
      "weighted avg       0.96      0.96      0.96      5244\n",
      "\n",
      "Model Performance with Category: other_aid\n",
      "              precision    recall  f1-score   support\n",
      "\n",
      "           0       0.88      0.98      0.93      4559\n",
      "           1       0.54      0.15      0.24       685\n",
      "\n",
      "    accuracy                           0.87      5244\n",
      "   macro avg       0.71      0.57      0.58      5244\n",
      "weighted avg       0.84      0.87      0.84      5244\n",
      "\n",
      "Model Performance with Category: infrastructure_related\n",
      "              precision    recall  f1-score   support\n",
      "\n",
      "           0       0.94      0.99      0.97      4913\n",
      "           1       0.41      0.09      0.15       331\n",
      "\n",
      "    accuracy                           0.93      5244\n",
      "   macro avg       0.67      0.54      0.56      5244\n",
      "weighted avg       0.91      0.93      0.91      5244\n",
      "\n",
      "Model Performance with Category: transport\n",
      "              precision    recall  f1-score   support\n",
      "\n",
      "           0       0.97      1.00      0.98      5021\n",
      "           1       0.69      0.20      0.31       223\n",
      "\n",
      "    accuracy                           0.96      5244\n",
      "   macro avg       0.83      0.60      0.65      5244\n",
      "weighted avg       0.95      0.96      0.95      5244\n",
      "\n",
      "Model Performance with Category: buildings\n",
      "              precision    recall  f1-score   support\n",
      "\n",
      "           0       0.97      0.99      0.98      4982\n",
      "           1       0.67      0.39      0.49       262\n",
      "\n",
      "    accuracy                           0.96      5244\n",
      "   macro avg       0.82      0.69      0.74      5244\n",
      "weighted avg       0.95      0.96      0.95      5244\n",
      "\n",
      "Model Performance with Category: electricity\n",
      "              precision    recall  f1-score   support\n",
      "\n",
      "           0       0.99      1.00      0.99      5136\n",
      "           1       0.62      0.31      0.42       108\n",
      "\n",
      "    accuracy                           0.98      5244\n",
      "   macro avg       0.80      0.66      0.70      5244\n",
      "weighted avg       0.98      0.98      0.98      5244\n",
      "\n",
      "Model Performance with Category: tools\n",
      "              precision    recall  f1-score   support\n",
      "\n",
      "           0       0.99      1.00      1.00      5216\n",
      "           1       0.00      0.00      0.00        28\n",
      "\n",
      "    accuracy                           0.99      5244\n",
      "   macro avg       0.50      0.50      0.50      5244\n",
      "weighted avg       0.99      0.99      0.99      5244\n",
      "\n",
      "Model Performance with Category: hospitals\n",
      "              precision    recall  f1-score   support\n",
      "\n",
      "           0       0.99      1.00      0.99      5181\n",
      "           1       0.19      0.06      0.10        63\n",
      "\n",
      "    accuracy                           0.99      5244\n",
      "   macro avg       0.59      0.53      0.54      5244\n",
      "weighted avg       0.98      0.99      0.98      5244\n",
      "\n",
      "Model Performance with Category: shops\n",
      "              precision    recall  f1-score   support\n",
      "\n",
      "           0       1.00      1.00      1.00      5219\n",
      "           1       0.00      0.00      0.00        25\n",
      "\n",
      "    accuracy                           0.99      5244\n",
      "   macro avg       0.50      0.50      0.50      5244\n",
      "weighted avg       0.99      0.99      0.99      5244\n",
      "\n",
      "Model Performance with Category: aid_centers\n",
      "              precision    recall  f1-score   support\n",
      "\n",
      "           0       0.99      1.00      0.99      5187\n",
      "           1       0.33      0.11      0.16        57\n",
      "\n",
      "    accuracy                           0.99      5244\n",
      "   macro avg       0.66      0.55      0.58      5244\n",
      "weighted avg       0.98      0.99      0.98      5244\n",
      "\n",
      "Model Performance with Category: other_infrastructure\n",
      "              precision    recall  f1-score   support\n",
      "\n",
      "           0       0.96      0.99      0.98      5020\n",
      "           1       0.33      0.10      0.16       224\n",
      "\n",
      "    accuracy                           0.95      5244\n",
      "   macro avg       0.65      0.55      0.57      5244\n",
      "weighted avg       0.93      0.95      0.94      5244\n",
      "\n",
      "Model Performance with Category: weather_related\n",
      "              precision    recall  f1-score   support\n",
      "\n",
      "           0       0.88      0.96      0.92      3827\n",
      "           1       0.85      0.65      0.74      1417\n",
      "\n",
      "    accuracy                           0.88      5244\n",
      "   macro avg       0.87      0.80      0.83      5244\n",
      "weighted avg       0.87      0.88      0.87      5244\n",
      "\n",
      "Model Performance with Category: floods\n",
      "              precision    recall  f1-score   support\n",
      "\n",
      "           0       0.96      0.99      0.98      4817\n",
      "           1       0.86      0.53      0.66       427\n",
      "\n",
      "    accuracy                           0.95      5244\n",
      "   macro avg       0.91      0.76      0.82      5244\n",
      "weighted avg       0.95      0.95      0.95      5244\n",
      "\n",
      "Model Performance with Category: storm\n",
      "              precision    recall  f1-score   support\n",
      "\n",
      "           0       0.96      0.98      0.97      4786\n",
      "           1       0.76      0.55      0.64       458\n",
      "\n",
      "    accuracy                           0.95      5244\n",
      "   macro avg       0.86      0.76      0.80      5244\n",
      "weighted avg       0.94      0.95      0.94      5244\n",
      "\n",
      "Model Performance with Category: fire\n",
      "              precision    recall  f1-score   support\n",
      "\n",
      "           0       0.99      1.00      0.99      5188\n",
      "           1       0.41      0.21      0.28        56\n",
      "\n",
      "    accuracy                           0.99      5244\n",
      "   macro avg       0.70      0.61      0.64      5244\n",
      "weighted avg       0.99      0.99      0.99      5244\n",
      "\n",
      "Model Performance with Category: earthquake\n",
      "              precision    recall  f1-score   support\n",
      "\n",
      "           0       0.98      0.99      0.98      4761\n",
      "           1       0.88      0.75      0.81       483\n",
      "\n",
      "    accuracy                           0.97      5244\n",
      "   macro avg       0.93      0.87      0.90      5244\n",
      "weighted avg       0.97      0.97      0.97      5244\n",
      "\n",
      "Model Performance with Category: cold\n",
      "              precision    recall  f1-score   support\n",
      "\n",
      "           0       0.99      1.00      0.99      5151\n",
      "           1       0.71      0.34      0.46        93\n",
      "\n",
      "    accuracy                           0.99      5244\n",
      "   macro avg       0.85      0.67      0.73      5244\n",
      "weighted avg       0.98      0.99      0.98      5244\n",
      "\n",
      "Model Performance with Category: other_weather\n",
      "              precision    recall  f1-score   support\n",
      "\n",
      "           0       0.95      0.99      0.97      4972\n",
      "           1       0.44      0.14      0.21       272\n",
      "\n",
      "    accuracy                           0.95      5244\n",
      "   macro avg       0.70      0.56      0.59      5244\n",
      "weighted avg       0.93      0.95      0.93      5244\n",
      "\n",
      "Model Performance with Category: direct_report\n",
      "              precision    recall  f1-score   support\n",
      "\n",
      "           0       0.89      0.96      0.92      4242\n",
      "           1       0.75      0.48      0.59      1002\n",
      "\n",
      "    accuracy                           0.87      5244\n",
      "   macro avg       0.82      0.72      0.75      5244\n",
      "weighted avg       0.86      0.87      0.86      5244\n",
      "\n",
      "Saving pipeline to classifier.pkl ...\n",
      "Trained model saved!\n"
     ]
    }
   ],
   "source": [
    "!python train_classifier.py ../user/disaster_response_db.db classifier.pkl"
   ]
  },
  {
   "cell_type": "code",
   "execution_count": null,
   "metadata": {},
   "outputs": [],
   "source": []
  }
 ],
 "metadata": {
  "kernelspec": {
   "display_name": "Python 3",
   "language": "python",
   "name": "python3"
  },
  "language_info": {
   "codemirror_mode": {
    "name": "ipython",
    "version": 3
   },
   "file_extension": ".py",
   "mimetype": "text/x-python",
   "name": "python",
   "nbconvert_exporter": "python",
   "pygments_lexer": "ipython3",
   "version": "3.8.5"
  }
 },
 "nbformat": 4,
 "nbformat_minor": 2
}
